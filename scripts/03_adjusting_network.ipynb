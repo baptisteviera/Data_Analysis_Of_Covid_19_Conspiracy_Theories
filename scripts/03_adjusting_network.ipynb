{
 "cells": [
  {
   "cell_type": "markdown",
   "metadata": {},
   "source": [
    "# Import Statements"
   ]
  },
  {
   "cell_type": "code",
   "execution_count": 3,
   "metadata": {
    "collapsed": true
   },
   "outputs": [],
   "source": [
    "import pandas as pd\n",
    "import matplotlib.pyplot as plt"
   ]
  },
  {
   "cell_type": "markdown",
   "metadata": {},
   "source": [
    "## Load Data"
   ]
  },
  {
   "cell_type": "code",
   "execution_count": 4,
   "metadata": {},
   "outputs": [],
   "source": [
    "nodes_5G = pd.read_csv('/Users/benji/Desktop/GI01/IC05/Projet/Essaiv3/Network/nodes_5Gl2.csv')\n",
    "edges_5G = pd.read_csv('/Users/benji/Desktop/GI01/IC05/Projet/Essaiv3/Network/edges_5G.csv')"
   ]
  },
  {
   "cell_type": "code",
   "execution_count": 5,
   "metadata": {},
   "outputs": [],
   "source": [
    "nodes_gates = pd.read_csv('/Users/benji/Desktop/GI01/IC05/Projet/Essaiv3/Network/nodes_gatesl.csv')\n",
    "edges_gates = pd.read_csv('/Users/benji/Desktop/GI01/IC05/Projet/Essaiv3/Network/edges_gates.csv')"
   ]
  },
  {
   "cell_type": "code",
   "execution_count": 6,
   "metadata": {},
   "outputs": [],
   "source": [
    "nodes_hydro = pd.read_csv('/Users/benji/Desktop/GI01/IC05/Projet/Essaiv3/Network/nodes_hydrol.csv')\n",
    "edges_hydro = pd.read_csv('/Users/benji/Desktop/GI01/IC05/Projet/Essaiv3/Network/edges_hydro.csv')"
   ]
  },
  {
   "cell_type": "markdown",
   "metadata": {},
   "source": [
    "## Drop failed localisation"
   ]
  },
  {
   "cell_type": "code",
   "execution_count": 7,
   "metadata": {},
   "outputs": [
    {
     "data": {
      "text/plain": "(353, 3)"
     },
     "execution_count": 7,
     "metadata": {},
     "output_type": "execute_result"
    }
   ],
   "source": [
    "nodes_5G2 = nodes_5G[nodes_5G['lat'] != 0.0]\n",
    "nodes_5G2 = nodes_5G2[nodes_5G2['lon'] != 0.0]\n",
    "nodes_5G2.shape"
   ]
  },
  {
   "cell_type": "code",
   "execution_count": 8,
   "metadata": {},
   "outputs": [
    {
     "data": {
      "text/plain": "(1391, 3)"
     },
     "execution_count": 8,
     "metadata": {},
     "output_type": "execute_result"
    }
   ],
   "source": [
    "nodes_gates2 = nodes_gates[nodes_gates['lat'] != 0.0]\n",
    "nodes_gates2 = nodes_gates2[nodes_gates2['lon'] != 0.0]\n",
    "nodes_gates2.shape"
   ]
  },
  {
   "cell_type": "code",
   "execution_count": 9,
   "metadata": {},
   "outputs": [
    {
     "data": {
      "text/plain": "(2345, 3)"
     },
     "execution_count": 9,
     "metadata": {},
     "output_type": "execute_result"
    }
   ],
   "source": [
    "nodes_hydro2 = nodes_hydro[nodes_hydro['lat'] != 0.0]\n",
    "nodes_hydro2 = nodes_hydro2[nodes_hydro2['lon'] != 0.0]\n",
    "nodes_hydro2.shape"
   ]
  },
  {
   "cell_type": "markdown",
   "metadata": {},
   "source": [
    "## Keeping only edges with known vertices "
   ]
  },
  {
   "cell_type": "code",
   "execution_count": 10,
   "metadata": {},
   "outputs": [],
   "source": [
    "edges_5G2 = edges_5G[~(edges_5G['from'].isin(nodes_5G2.screen_name) & edges_5G['to'].isin(nodes_5G2.screen_name))]\n",
    "edges_gates2 = edges_gates[~(edges_gates['from'].isin(nodes_gates2.screen_name) & edges_gates['to'].isin(nodes_gates2.screen_name))]\n",
    "edges_hydro2 = edges_hydro[~(edges_hydro['from'].isin(nodes_hydro2.screen_name) & edges_hydro['to'].isin(nodes_hydro2.screen_name))]"
   ]
  },
  {
   "cell_type": "code",
   "execution_count": 11,
   "metadata": {},
   "outputs": [],
   "source": [
    "edges_5G3 = edges_5G[(edges_5G['from'].isin(nodes_5G2.screen_name) & edges_5G['to'].isin(nodes_5G2.screen_name))]\n",
    "edges_gates3 = edges_gates[(edges_gates['from'].isin(nodes_gates2.screen_name) & edges_gates['to'].isin(nodes_gates2.screen_name))]\n",
    "edges_hydro3 = edges_hydro[(edges_hydro['from'].isin(nodes_hydro2.screen_name) & edges_hydro['to'].isin(nodes_hydro2.screen_name))]"
   ]
  },
  {
   "cell_type": "code",
   "execution_count": 12,
   "metadata": {},
   "outputs": [],
   "source": [
    "edges_5G4 = edges_5G3[edges_5G3['from'] != edges_5G3['to']]\n",
    "edges_gates4 = edges_gates3[edges_gates3['from'] != edges_gates3['to']]\n",
    "edges_hydro4 = edges_hydro3[edges_hydro3['from'] != edges_hydro3['to']]"
   ]
  },
  {
   "cell_type": "code",
   "execution_count": 13,
   "metadata": {},
   "outputs": [],
   "source": [
    "nodes_5G3 = nodes_5G2[nodes_5G2['screen_name'].isin(edges_5G4['from']) | nodes_5G2['screen_name'].isin(edges_5G4['to'])]\n",
    "nodes_gates3 = nodes_gates2[nodes_gates2['screen_name'].isin(edges_gates4['from']) | nodes_gates2['screen_name'].isin(edges_gates4['to'])]\n",
    "nodes_hydro3 = nodes_hydro2[nodes_hydro2['screen_name'].isin(edges_hydro4['from']) | nodes_hydro2['screen_name'].isin(edges_hydro4['to'])]"
   ]
  },
  {
   "cell_type": "markdown",
   "metadata": {},
   "source": [
    "## Exporting Databases"
   ]
  },
  {
   "cell_type": "code",
   "execution_count": 147,
   "metadata": {},
   "outputs": [],
   "source": [
    "# Final nodes\n",
    "nodes_5G2.to_csv(r'/Users/benji/Desktop/GI01/IC05/Projet/Essaiv3/Network/nodes_5G_VF2.csv', index=False)\n",
    "nodes_gates2.to_csv(r'/Users/benji/Desktop/GI01/IC05/Projet/Essaiv3/Network/nodes_gates_VF2.csv', index=False)\n",
    "nodes_hydro2.to_csv(r'/Users/benji/Desktop/GI01/IC05/Projet/Essaiv3/Network/nodes_hydro_VF2.csv', index=False)\n",
    "\n",
    "# Final nodes\n",
    "nodes_5G3.to_csv(r'/Users/benji/Desktop/GI01/IC05/Projet/Essaiv3/Network/nodes_5G_VF3.csv', index=False)\n",
    "nodes_gates3.to_csv(r'/Users/benji/Desktop/GI01/IC05/Projet/Essaiv3/Network/nodes_gates_VF3.csv', index=False)\n",
    "nodes_hydro3.to_csv(r'/Users/benji/Desktop/GI01/IC05/Projet/Essaiv3/Network/nodes_hydro_VF3.csv', index=False)\n",
    "\n",
    "# Final edges\n",
    "edges_5G2.to_csv(r'/Users/benji/Desktop/GI01/IC05/Projet/Essaiv3/Network/edges_5G_VF2.csv', index=False)\n",
    "edges_gates2.to_csv(r'/Users/benji/Desktop/GI01/IC05/Projet/Essaiv3/Network/edges_gates_VF2.csv', index=False)\n",
    "edges_hydro2.to_csv(r'/Users/benji/Desktop/GI01/IC05/Projet/Essaiv3/Network/edges_hydro_VF2.csv', index=False)\n",
    "\n",
    "# Final edges V3\n",
    "edges_5G3.to_csv(r'/Users/benji/Desktop/GI01/IC05/Projet/Essaiv3/Network/edges_5G_VF3.csv', index=False)\n",
    "edges_gates3.to_csv(r'/Users/benji/Desktop/GI01/IC05/Projet/Essaiv3/Network/edges_gates_VF3.csv', index=False)\n",
    "edges_hydro3.to_csv(r'/Users/benji/Desktop/GI01/IC05/Projet/Essaiv3/Network/edges_hydro_VF3.csv', index=False)\n",
    "\n",
    "# Final edges V4 (removing loops)\n",
    "edges_5G4.to_csv(r'/Users/benji/Desktop/GI01/IC05/Projet/Essaiv3/Network/edges_5G_VF4.csv', index=False)\n",
    "edges_gates4.to_csv(r'/Users/benji/Desktop/GI01/IC05/Projet/Essaiv3/Network/edges_gates_VF4.csv', index=False)\n",
    "edges_hydro4.to_csv(r'/Users/benji/Desktop/GI01/IC05/Projet/Essaiv3/Network/edges_hydro_VF4.csv', index=False)"
   ]
  },
  {
   "cell_type": "markdown",
   "metadata": {},
   "source": [
    "## Removing authors retweeted less than 5 times"
   ]
  },
  {
   "cell_type": "code",
   "execution_count": 14,
   "metadata": {},
   "outputs": [],
   "source": [
    "# Shortening the datbase\n",
    "authors_5G = edges_5G4.to.value_counts()[edges_5G4.to.value_counts() >=5].index.tolist()\n",
    "authors_ga = edges_gates4.to.value_counts()[edges_gates4.to.value_counts() >=5].index.tolist()\n",
    "authors_hy = edges_hydro4.to.value_counts()[edges_hydro4.to.value_counts() >=5].index.tolist()\n",
    "\n",
    "edges_5G5 = edges_5G4[edges_5G4['to'].isin(authors_5G)]\n",
    "edges_ga5 = edges_gates4[edges_gates4['to'].isin(authors_ga)]\n",
    "edges_hy5 = edges_hydro4[edges_hydro4['to'].isin(authors_hy)]"
   ]
  },
  {
   "cell_type": "code",
   "execution_count": 15,
   "metadata": {},
   "outputs": [],
   "source": [
    "# Shortening the datbase\n",
    "authors_5G2 = edges_5G4.to.value_counts()[edges_5G4.to.value_counts() >= 10].index.tolist()\n",
    "authors_ga2 = edges_gates4.to.value_counts()[edges_gates4.to.value_counts() >= 70].index.tolist()\n",
    "authors_hy2 = edges_hydro4.to.value_counts()[edges_hydro4.to.value_counts() >= 150].index.tolist()\n",
    "\n",
    "edges_5G6 = edges_5G4[edges_5G4['to'].isin(authors_5G2)]\n",
    "edges_ga6 = edges_gates4[edges_gates4['to'].isin(authors_ga2)]\n",
    "edges_hy6 = edges_hydro4[edges_hydro4['to'].isin(authors_hy2)]"
   ]
  },
  {
   "cell_type": "code",
   "execution_count": 371,
   "metadata": {},
   "outputs": [
    {
     "data": {
      "text/plain": [
       "['Fraslin', 'RaouItDidierOff', 'BobLeCentriste']"
      ]
     },
     "execution_count": 371,
     "metadata": {},
     "output_type": "execute_result"
    }
   ],
   "source": [
    "authors_5G2"
   ]
  },
  {
   "cell_type": "code",
   "execution_count": 372,
   "metadata": {},
   "outputs": [
    {
     "data": {
      "text/plain": [
       "['TontonFlingr', 'PATRIOTOSORUS', 'lafontaine_lj']"
      ]
     },
     "execution_count": 372,
     "metadata": {},
     "output_type": "execute_result"
    }
   ],
   "source": [
    "authors_ga2"
   ]
  },
  {
   "cell_type": "code",
   "execution_count": 373,
   "metadata": {},
   "outputs": [
    {
     "data": {
      "text/plain": [
       "['Infirmier0', 'AnneFarmer65', 'morandiniblog']"
      ]
     },
     "execution_count": 373,
     "metadata": {},
     "output_type": "execute_result"
    }
   ],
   "source": [
    "authors_hy2"
   ]
  },
  {
   "cell_type": "code",
   "execution_count": 16,
   "metadata": {},
   "outputs": [],
   "source": [
    "nodes_5G6 = nodes_5G3[nodes_5G3['screen_name'].isin(edges_5G6['from']) | nodes_5G3['screen_name'].isin(edges_5G6['to'])]\n",
    "nodes_ga6 = nodes_gates3[nodes_gates3['screen_name'].isin(edges_ga6['from']) | nodes_gates3['screen_name'].isin(edges_ga6['to'])]\n",
    "nodes_hy6 = nodes_hydro3[nodes_hydro3['screen_name'].isin(edges_hy6['from']) | nodes_hydro3['screen_name'].isin(edges_hy6['to'])]"
   ]
  },
  {
   "cell_type": "code",
   "execution_count": 487,
   "metadata": {},
   "outputs": [],
   "source": [
    "# Shortened nodes\n",
    "nodes_5G6.to_csv(r'/Users/benji/Desktop/GI01/IC05/Projet/Essaiv3/Network/nodes_5G_VS2.csv', index=False)\n",
    "nodes_ga6.to_csv(r'/Users/benji/Desktop/GI01/IC05/Projet/Essaiv3/Network/nodes_ga_VS2.csv', index=False)\n",
    "nodes_hy6.to_csv(r'/Users/benji/Desktop/GI01/IC05/Projet/Essaiv3/Network/nodes_hy_VS2.csv', index=False)\n",
    "\n",
    "# Shortened edges \n",
    "edges_5G6.to_csv(r'/Users/benji/Desktop/GI01/IC05/Projet/Essaiv3/Network/edges_5G_VS2.csv', index=False)\n",
    "edges_ga6.to_csv(r'/Users/benji/Desktop/GI01/IC05/Projet/Essaiv3/Network/edges_ga_VS2.csv', index=False)\n",
    "nodes_hy6.to_csv(r'/Users/benji/Desktop/GI01/IC05/Projet/Essaiv3/Network/edges_hy_VS2.csv', index=False)"
   ]
  },
  {
   "cell_type": "code",
   "execution_count": 489,
   "metadata": {},
   "outputs": [],
   "source": [
    "# Most importants of shortened nodes\n",
    "nodes_ga7.to_csv(r'/Users/benji/Desktop/GI01/IC05/Projet/Essaiv3/Network/nodes_ga_VS3.csv', index=False)\n",
    "\n",
    "# Shortened edges \n",
    "edges_ga7.to_csv(r'/Users/benji/Desktop/GI01/IC05/Projet/Essaiv3/Network/edges_ga_VS3.csv', index=False)"
   ]
  },
  {
   "cell_type": "code",
   "execution_count": 557,
   "metadata": {},
   "outputs": [],
   "source": [
    "# Most importants of shortened nodes\n",
    "nodes_hy7.to_csv(r'/Users/benji/Desktop/GI01/IC05/Projet/Essaiv3/Network/nodes_hy_VS3.csv', index=False)\n",
    "\n",
    "# Shortened edges \n",
    "edges_hy7.to_csv(r'/Users/benji/Desktop/GI01/IC05/Projet/Essaiv3/Network/edges_hy_VS3.csv', index=False)"
   ]
  },
  {
   "cell_type": "code",
   "execution_count": 243,
   "metadata": {},
   "outputs": [],
   "source": [
    "nodes_5G5.at[334,'lat'] = 43.2961743\n",
    "nodes_5G5.at[334,'lon'] = 5.3699525"
   ]
  },
  {
   "cell_type": "code",
   "execution_count": 607,
   "metadata": {},
   "outputs": [
    {
     "data": {
      "text/plain": [
       "Fraslin            24\n",
       "RaouItDidierOff    20\n",
       "BobLeCentriste     10\n",
       "Name: to, dtype: int64"
      ]
     },
     "execution_count": 607,
     "metadata": {},
     "output_type": "execute_result"
    }
   ],
   "source": [
    "edges_5G6.to.value_counts()"
   ]
  },
  {
   "cell_type": "code",
   "execution_count": 378,
   "metadata": {},
   "outputs": [
    {
     "data": {
      "text/plain": [
       "TontonFlingr     518\n",
       "PATRIOTOSORUS    112\n",
       "lafontaine_lj     86\n",
       "Name: to, dtype: int64"
      ]
     },
     "execution_count": 378,
     "metadata": {},
     "output_type": "execute_result"
    }
   ],
   "source": [
    "edges_ga6.to.value_counts()"
   ]
  },
  {
   "cell_type": "code",
   "execution_count": 379,
   "metadata": {},
   "outputs": [
    {
     "data": {
      "text/plain": [
       "Infirmier0       265\n",
       "AnneFarmer65     212\n",
       "morandiniblog    188\n",
       "Name: to, dtype: int64"
      ]
     },
     "execution_count": 379,
     "metadata": {},
     "output_type": "execute_result"
    }
   ],
   "source": [
    "edges_hy6.to.value_counts()"
   ]
  },
  {
   "cell_type": "markdown",
   "metadata": {},
   "source": [
    "# Reduce DataFrames densities"
   ]
  },
  {
   "cell_type": "code",
   "execution_count": 17,
   "metadata": {},
   "outputs": [],
   "source": [
    "def reduceDF(df, series_quotas):\n",
    "    \n",
    "    # On crée une df des résultats\n",
    "    df_results = pd.DataFrame(columns=df.columns)\n",
    "    \n",
    "    # On récupère les quotas à atteindre, et on initialise nos compteurs à 0\n",
    "    dict_quot = series_quotas.to_dict()\n",
    "    dict_curr = {x: 0 for x in dict_quot}\n",
    "    \n",
    "    for i in range(df.shape[0]):\n",
    "        #print(f\"Curr : {dict_curr[df['to'].iloc[i]]}, quota = {dict_quot[df['to'].iloc[i]]}\")\n",
    "              \n",
    "        # Si on a pas dépassé le quota, on append à la df et on incrémente le dict_curr\n",
    "        if dict_curr[df['to'].iloc[i]] <= dict_quot[df['to'].iloc[i]]-1:\n",
    "            #print(df.loc[[i]])\n",
    "            df_results = df_results.append(df.loc[[i]])\n",
    "            dict_curr[df['to'].iloc[i]] += 1\n",
    "    return df_results"
   ]
  },
  {
   "cell_type": "code",
   "execution_count": 18,
   "metadata": {},
   "outputs": [],
   "source": [
    "edges_hy6.index = range(edges_hy6.shape[0])\n",
    "edges_ga6.index = range(edges_ga6.shape[0])\n",
    "edges_5G6.index = range(edges_5G6.shape[0])"
   ]
  },
  {
   "cell_type": "code",
   "execution_count": 19,
   "metadata": {},
   "outputs": [],
   "source": [
    "edges_5G7 = reduceDF(edges_5G6, edges_5G6['to'].value_counts()/1.1)\n",
    "edges_ga7 = reduceDF(edges_ga6, edges_ga6['to'].value_counts()/14.5)\n",
    "edges_hy7 = reduceDF(edges_hy6, edges_hy6['to'].value_counts()/13.5)"
   ]
  },
  {
   "cell_type": "code",
   "execution_count": 21,
   "metadata": {},
   "outputs": [],
   "source": [
    "nodes_5G7 = nodes_5G6[nodes_5G6['screen_name'].isin(edges_5G7['from']) | nodes_5G6['screen_name'].isin(edges_5G7['to'])]\n",
    "nodes_ga7 = nodes_ga6[nodes_ga6['screen_name'].isin(edges_ga7['from']) | nodes_ga6['screen_name'].isin(edges_ga7['to'])]\n",
    "nodes_hy7 = nodes_hy6[nodes_hy6['screen_name'].isin(edges_hy7['from']) | nodes_hy6['screen_name'].isin(edges_hy7['to'])]"
   ]
  },
  {
   "cell_type": "code",
   "execution_count": 590,
   "metadata": {},
   "outputs": [],
   "source": [
    "# DataFrames reduced to 49 edges :\n",
    "\n",
    "# Reduces nodes\n",
    "nodes_5G7.to_csv(r'/Users/benji/Desktop/GI01/IC05/Projet/Essaiv3/Network/nodes_5G_VS4.csv', index=False)\n",
    "nodes_ga7.to_csv(r'/Users/benji/Desktop/GI01/IC05/Projet/Essaiv3/Network/nodes_ga_VS4.csv', index=False)\n",
    "nodes_hy7.to_csv(r'/Users/benji/Desktop/GI01/IC05/Projet/Essaiv3/Network/nodes_hy_VS4.csv', index=False)\n",
    "\n",
    "# Reduces edges\n",
    "edges_5G7.to_csv(r'/Users/benji/Desktop/GI01/IC05/Projet/Essaiv3/Network/edges_5G_VS4.csv', index=False)\n",
    "edges_ga7.to_csv(r'/Users/benji/Desktop/GI01/IC05/Projet/Essaiv3/Network/edges_ga_VS4.csv', index=False)\n",
    "edges_hy7.to_csv(r'/Users/benji/Desktop/GI01/IC05/Projet/Essaiv3/Network/edges_hy_VS4.csv', index=False)"
   ]
  },
  {
   "cell_type": "code",
   "execution_count": 42,
   "metadata": {},
   "outputs": [
    {
     "data": {
      "text/plain": "Infirmier0       19\nAnneFarmer65     15\nmorandiniblog    13\nName: to, dtype: int64"
     },
     "execution_count": 42,
     "metadata": {},
     "output_type": "execute_result"
    }
   ],
   "source": [
    "(edges_hy7['to'].value_counts())"
   ]
  },
  {
   "cell_type": "code",
   "execution_count": 41,
   "metadata": {},
   "outputs": [
    {
     "data": {
      "text/plain": "TontonFlingr     35\nPATRIOTOSORUS     7\nlafontaine_lj     5\nName: to, dtype: int64"
     },
     "execution_count": 41,
     "metadata": {},
     "output_type": "execute_result"
    }
   ],
   "source": [
    "(edges_ga7['to'].value_counts())"
   ]
  },
  {
   "cell_type": "code",
   "execution_count": 40,
   "metadata": {},
   "outputs": [
    {
     "data": {
      "text/plain": "Fraslin            21\nRaouItDidierOff    18\nBobLeCentriste      9\nName: to, dtype: int64"
     },
     "execution_count": 40,
     "metadata": {},
     "output_type": "execute_result"
    }
   ],
   "source": [
    "edges_5G7['to'].value_counts()"
   ]
  },
  {
   "cell_type": "code",
   "execution_count": 47,
   "metadata": {},
   "outputs": [
    {
     "data": {
      "text/plain": "        screen_name        lon        lat\n1444  lafontaine_lj -71.207981  46.813878",
      "text/html": "<div>\n<style scoped>\n    .dataframe tbody tr th:only-of-type {\n        vertical-align: middle;\n    }\n\n    .dataframe tbody tr th {\n        vertical-align: top;\n    }\n\n    .dataframe thead th {\n        text-align: right;\n    }\n</style>\n<table border=\"1\" class=\"dataframe\">\n  <thead>\n    <tr style=\"text-align: right;\">\n      <th></th>\n      <th>screen_name</th>\n      <th>lon</th>\n      <th>lat</th>\n    </tr>\n  </thead>\n  <tbody>\n    <tr>\n      <th>1444</th>\n      <td>lafontaine_lj</td>\n      <td>-71.207981</td>\n      <td>46.813878</td>\n    </tr>\n  </tbody>\n</table>\n</div>"
     },
     "execution_count": 47,
     "metadata": {},
     "output_type": "execute_result"
    }
   ],
   "source": [
    "nodes_ga7[nodes_ga7['screen_name'] == 'lafontaine_lj']"
   ]
  },
  {
   "cell_type": "code",
   "execution_count": 49,
   "outputs": [
    {
     "data": {
      "text/plain": "         screen_name        lon        lat\n334  RaouItDidierOff  35.303546  32.699635",
      "text/html": "<div>\n<style scoped>\n    .dataframe tbody tr th:only-of-type {\n        vertical-align: middle;\n    }\n\n    .dataframe tbody tr th {\n        vertical-align: top;\n    }\n\n    .dataframe thead th {\n        text-align: right;\n    }\n</style>\n<table border=\"1\" class=\"dataframe\">\n  <thead>\n    <tr style=\"text-align: right;\">\n      <th></th>\n      <th>screen_name</th>\n      <th>lon</th>\n      <th>lat</th>\n    </tr>\n  </thead>\n  <tbody>\n    <tr>\n      <th>334</th>\n      <td>RaouItDidierOff</td>\n      <td>35.303546</td>\n      <td>32.699635</td>\n    </tr>\n  </tbody>\n</table>\n</div>"
     },
     "execution_count": 49,
     "metadata": {},
     "output_type": "execute_result"
    }
   ],
   "source": [
    "nodes_5G7[nodes_5G7['screen_name'] == 'RaouItDidierOff']"
   ],
   "metadata": {
    "collapsed": false,
    "pycharm": {
     "name": "#%%\n"
    }
   }
  },
  {
   "cell_type": "code",
   "execution_count": 45,
   "outputs": [
    {
     "data": {
      "text/plain": "     screen_name      lon        lat\n2428  Infirmier0  5.36978  43.296482",
      "text/html": "<div>\n<style scoped>\n    .dataframe tbody tr th:only-of-type {\n        vertical-align: middle;\n    }\n\n    .dataframe tbody tr th {\n        vertical-align: top;\n    }\n\n    .dataframe thead th {\n        text-align: right;\n    }\n</style>\n<table border=\"1\" class=\"dataframe\">\n  <thead>\n    <tr style=\"text-align: right;\">\n      <th></th>\n      <th>screen_name</th>\n      <th>lon</th>\n      <th>lat</th>\n    </tr>\n  </thead>\n  <tbody>\n    <tr>\n      <th>2428</th>\n      <td>Infirmier0</td>\n      <td>5.36978</td>\n      <td>43.296482</td>\n    </tr>\n  </tbody>\n</table>\n</div>"
     },
     "execution_count": 45,
     "metadata": {},
     "output_type": "execute_result"
    }
   ],
   "source": [
    "nodes_hy7[nodes_hy7['screen_name'] == 'Infirmier0']"
   ],
   "metadata": {
    "collapsed": false,
    "pycharm": {
     "name": "#%%\n"
    }
   }
  },
  {
   "cell_type": "code",
   "execution_count": null,
   "outputs": [],
   "source": [],
   "metadata": {
    "collapsed": false,
    "pycharm": {
     "name": "#%%\n"
    }
   }
  }
 ],
 "metadata": {
  "celltoolbar": "Format de la Cellule Texte Brut",
  "kernelspec": {
   "display_name": "Python 3",
   "language": "python",
   "name": "python3"
  },
  "language_info": {
   "codemirror_mode": {
    "name": "ipython",
    "version": 3
   },
   "file_extension": ".py",
   "mimetype": "text/x-python",
   "name": "python",
   "nbconvert_exporter": "python",
   "pygments_lexer": "ipython3",
   "version": "3.7.3"
  }
 },
 "nbformat": 4,
 "nbformat_minor": 2
}