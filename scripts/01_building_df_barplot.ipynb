{
 "cells": [
  {
   "cell_type": "markdown",
   "metadata": {},
   "source": [
    "# Twitter API"
   ]
  },
  {
   "cell_type": "markdown",
   "metadata": {},
   "source": [
    "## Import Statements"
   ]
  },
  {
   "cell_type": "code",
   "execution_count": 1,
   "metadata": {},
   "outputs": [],
   "source": [
    "import pandas as pd\n",
    "import matplotlib.pyplot as plt\n",
    "\n",
    "import json\n",
    "import glob\n",
    "import os"
   ]
  },
  {
   "cell_type": "markdown",
   "metadata": {},
   "source": [
    "## Helper Funtions"
   ]
  },
  {
   "cell_type": "code",
   "execution_count": 2,
   "metadata": {},
   "outputs": [],
   "source": [
    "# Renvoie une dataframe avec le contenu de tous les fichiers .json du dossier passé en argument\n",
    "def createDF(path_to_folder, test_set=False):\n",
    "    \n",
    "    os.chdir(path_to_folder)\n",
    "\n",
    "    df_results = pd.DataFrame(columns=['contributors', 'coordinates', 'created_at', 'display_text_range',\n",
    "           'entities', 'extended_tweet', 'favorite_count', 'favorited',\n",
    "           'filter_level', 'geo', 'id', 'id_str', 'in_reply_to_screen_name',\n",
    "           'in_reply_to_status_id', 'in_reply_to_status_id_str',\n",
    "           'in_reply_to_user_id', 'in_reply_to_user_id_str', 'is_quote_status',\n",
    "           'lang', 'matching_rules', 'place', 'possibly_sensitive', 'quote_count',\n",
    "           'quoted_status', 'quoted_status_id', 'quoted_status_id_str',\n",
    "           'quoted_status_permalink', 'reply_count', 'retweet_count', 'retweeted',\n",
    "           'retweeted_status', 'source', 'text', 'truncated', 'user'])\n",
    "        \n",
    "    for filename in glob.glob(\"*.json\"):\n",
    "        data = json.load(open(filename))\n",
    "        df_current = pd.DataFrame(data[\"results\"])\n",
    "        df_results = pd.concat([df_results, df_current], sort=False)\n",
    "    \n",
    "    if test_set:\n",
    "        df_results = df_results.sample(10)\n",
    "    \n",
    "    return df_results"
   ]
  },
  {
   "cell_type": "code",
   "execution_count": 3,
   "metadata": {},
   "outputs": [],
   "source": [
    "# Ajoute une colonne date à partir de la colonne created_at\n",
    "map_month = {'Jan':1, 'Feb':2, 'Mar':3, 'Apr':4, 'May':5, 'Jun':6, 'Jul':7, 'Aug':8,'Sep':9, 'Oct':10, 'Nov':11, 'Dec':12,}\n",
    "\n",
    "def extractDate(df):\n",
    "    # création d'une colonne date avec les premiers caractères de la colonne created_at \n",
    "    df['date'] = df.created_at.str[:10]\n",
    "    \n",
    "    # division de la colonne date en un tuple new = weekday, month, date\n",
    "    new = df['date'].str.split(' ', n = 2, expand = True)\n",
    "    \n",
    "    # ajout des colonnes day, month, year\n",
    "    df['day'] = new[2] \n",
    "    df['month'] = new[1] \n",
    "    df.month = df.month.map(map_month)\n",
    "    df['year'] = '2020'\n",
    "    \n",
    "    # modification de la colonne date pour avoir le format yyyy-mm-dd\n",
    "    df['date'] = df['year'].str.cat(df[['month', 'day']].astype(str), sep=\"-\")\n",
    "    df['date'] = df['date'].astype('datetime64')\n",
    "    \n",
    "    # suppression des colonnes inutiles\n",
    "    del df['day']\n",
    "    del df['month']\n",
    "    del df['year']"
   ]
  },
  {
   "cell_type": "code",
   "execution_count": 4,
   "metadata": {},
   "outputs": [],
   "source": [
    "# Fonction d'affichage d'un histogramme pour une dataframe avec une colonne date (stack overflow)\n",
    "def visualize(df, column_name='date', color='#494949', title=''):\n",
    "    \"\"\"\n",
    "    Visualize a dataframe with a date column.\n",
    "\n",
    "    Parameters\n",
    "    ----------\n",
    "    df : Pandas dataframe\n",
    "    column_name : str\n",
    "        Column to visualize\n",
    "    color : str\n",
    "    title : str\n",
    "    \"\"\"\n",
    "    plt.figure(figsize=(20, 10))\n",
    "    ax = (df[column_name].groupby([df[column_name].dt.month,df[column_name].dt.day])\n",
    "                         .count()).plot(kind=\"bar\", color=color)\n",
    "    ax.set_facecolor('#ffffff')\n",
    "    ax.set_xlabel(\"jour\")\n",
    "    ax.set_ylabel(\"nombre de tweets\")\n",
    "    ax.set_title(title)\n",
    "    plt.show()"
   ]
  },
  {
   "cell_type": "markdown",
   "metadata": {},
   "source": [
    "## Load Data"
   ]
  },
  {
   "cell_type": "code",
   "execution_count": 5,
   "metadata": {},
   "outputs": [
    {
     "data": {
      "text/plain": [
       "(1228, 36)"
      ]
     },
     "execution_count": 5,
     "metadata": {},
     "output_type": "execute_result"
    }
   ],
   "source": [
    "df_5G = createDF('/Users/benji/Desktop/GI01/IC05/Projet/Essaiv3/5G')\n",
    "df_5G.shape"
   ]
  },
  {
   "cell_type": "code",
   "execution_count": 6,
   "metadata": {},
   "outputs": [
    {
     "data": {
      "text/plain": [
       "(5183, 36)"
      ]
     },
     "execution_count": 6,
     "metadata": {},
     "output_type": "execute_result"
    }
   ],
   "source": [
    "df_Gates = createDF('/Users/benji/Desktop/GI01/IC05/Projet/Essaiv3/Gates')\n",
    "df_Gates.shape"
   ]
  },
  {
   "cell_type": "code",
   "execution_count": 7,
   "metadata": {
    "scrolled": false
   },
   "outputs": [
    {
     "data": {
      "text/plain": [
       "(14087, 36)"
      ]
     },
     "execution_count": 7,
     "metadata": {},
     "output_type": "execute_result"
    }
   ],
   "source": [
    "df_hydro = createDF('/Users/benji/Desktop/GI01/IC05/Projet/Essaiv3/Hydroxychloroquine/')\n",
    "df_hydro.shape"
   ]
  },
  {
   "cell_type": "markdown",
   "metadata": {},
   "source": [
    "## Building a test dataset"
   ]
  },
  {
   "cell_type": "code",
   "execution_count": 64,
   "metadata": {
    "scrolled": true
   },
   "outputs": [],
   "source": [
    "df_test5G = createDF('/Users/benji/Desktop/GI01/IC05/Projet/Essaiv3/Hydroxychloroquine/', test_set=True)"
   ]
  },
  {
   "cell_type": "code",
   "execution_count": 228,
   "metadata": {},
   "outputs": [],
   "source": [
    "df_copy = df_test5G.copy(deep=True)"
   ]
  },
  {
   "cell_type": "code",
   "execution_count": 229,
   "metadata": {},
   "outputs": [
    {
     "data": {
      "text/html": [
       "<div>\n",
       "<style scoped>\n",
       "    .dataframe tbody tr th:only-of-type {\n",
       "        vertical-align: middle;\n",
       "    }\n",
       "\n",
       "    .dataframe tbody tr th {\n",
       "        vertical-align: top;\n",
       "    }\n",
       "\n",
       "    .dataframe thead th {\n",
       "        text-align: right;\n",
       "    }\n",
       "</style>\n",
       "<table border=\"1\" class=\"dataframe\">\n",
       "  <thead>\n",
       "    <tr style=\"text-align: right;\">\n",
       "      <th></th>\n",
       "      <th>contributors</th>\n",
       "      <th>coordinates</th>\n",
       "      <th>created_at</th>\n",
       "      <th>display_text_range</th>\n",
       "      <th>entities</th>\n",
       "      <th>extended_tweet</th>\n",
       "      <th>favorite_count</th>\n",
       "      <th>favorited</th>\n",
       "      <th>filter_level</th>\n",
       "      <th>geo</th>\n",
       "      <th>...</th>\n",
       "      <th>quoted_status_permalink</th>\n",
       "      <th>reply_count</th>\n",
       "      <th>retweet_count</th>\n",
       "      <th>retweeted</th>\n",
       "      <th>retweeted_status</th>\n",
       "      <th>source</th>\n",
       "      <th>text</th>\n",
       "      <th>truncated</th>\n",
       "      <th>user</th>\n",
       "      <th>extended_entities</th>\n",
       "    </tr>\n",
       "  </thead>\n",
       "  <tbody>\n",
       "    <tr>\n",
       "      <th>18</th>\n",
       "      <td>None</td>\n",
       "      <td>None</td>\n",
       "      <td>Thu Oct 22 21:26:41 +0000 2020</td>\n",
       "      <td>NaN</td>\n",
       "      <td>{'hashtags': [], 'urls': [], 'user_mentions': ...</td>\n",
       "      <td>NaN</td>\n",
       "      <td>0</td>\n",
       "      <td>False</td>\n",
       "      <td>low</td>\n",
       "      <td>None</td>\n",
       "      <td>...</td>\n",
       "      <td>NaN</td>\n",
       "      <td>0</td>\n",
       "      <td>0</td>\n",
       "      <td>False</td>\n",
       "      <td>{'created_at': 'Thu Oct 22 16:49:02 +0000 2020...</td>\n",
       "      <td>&lt;a href=\"http://twitter.com/download/android\" ...</td>\n",
       "      <td>RT @Infirmier0: On apprend que l'Allemagne a m...</td>\n",
       "      <td>False</td>\n",
       "      <td>{'id': 952849515542872065, 'id_str': '95284951...</td>\n",
       "      <td>NaN</td>\n",
       "    </tr>\n",
       "    <tr>\n",
       "      <th>29</th>\n",
       "      <td>None</td>\n",
       "      <td>None</td>\n",
       "      <td>Fri Oct 09 19:20:21 +0000 2020</td>\n",
       "      <td>NaN</td>\n",
       "      <td>{'hashtags': [{'text': 'Veran', 'indices': [36...</td>\n",
       "      <td>NaN</td>\n",
       "      <td>0</td>\n",
       "      <td>False</td>\n",
       "      <td>low</td>\n",
       "      <td>None</td>\n",
       "      <td>...</td>\n",
       "      <td>NaN</td>\n",
       "      <td>0</td>\n",
       "      <td>0</td>\n",
       "      <td>False</td>\n",
       "      <td>{'created_at': 'Fri Oct 09 16:49:03 +0000 2020...</td>\n",
       "      <td>&lt;a href=\"https://mobile.twitter.com\" rel=\"nofo...</td>\n",
       "      <td>RT @OSTERElizabeth1: Notre ministre #Veran si ...</td>\n",
       "      <td>False</td>\n",
       "      <td>{'id': 1252263087211773952, 'id_str': '1252263...</td>\n",
       "      <td>NaN</td>\n",
       "    </tr>\n",
       "  </tbody>\n",
       "</table>\n",
       "<p>2 rows × 36 columns</p>\n",
       "</div>"
      ],
      "text/plain": [
       "   contributors coordinates                      created_at  \\\n",
       "18         None        None  Thu Oct 22 21:26:41 +0000 2020   \n",
       "29         None        None  Fri Oct 09 19:20:21 +0000 2020   \n",
       "\n",
       "   display_text_range                                           entities  \\\n",
       "18                NaN  {'hashtags': [], 'urls': [], 'user_mentions': ...   \n",
       "29                NaN  {'hashtags': [{'text': 'Veran', 'indices': [36...   \n",
       "\n",
       "   extended_tweet favorite_count favorited filter_level   geo  ...  \\\n",
       "18            NaN              0     False          low  None  ...   \n",
       "29            NaN              0     False          low  None  ...   \n",
       "\n",
       "   quoted_status_permalink reply_count retweet_count retweeted  \\\n",
       "18                     NaN           0             0     False   \n",
       "29                     NaN           0             0     False   \n",
       "\n",
       "                                     retweeted_status  \\\n",
       "18  {'created_at': 'Thu Oct 22 16:49:02 +0000 2020...   \n",
       "29  {'created_at': 'Fri Oct 09 16:49:03 +0000 2020...   \n",
       "\n",
       "                                               source  \\\n",
       "18  <a href=\"http://twitter.com/download/android\" ...   \n",
       "29  <a href=\"https://mobile.twitter.com\" rel=\"nofo...   \n",
       "\n",
       "                                                 text truncated  \\\n",
       "18  RT @Infirmier0: On apprend que l'Allemagne a m...     False   \n",
       "29  RT @OSTERElizabeth1: Notre ministre #Veran si ...     False   \n",
       "\n",
       "                                                 user extended_entities  \n",
       "18  {'id': 952849515542872065, 'id_str': '95284951...               NaN  \n",
       "29  {'id': 1252263087211773952, 'id_str': '1252263...               NaN  \n",
       "\n",
       "[2 rows x 36 columns]"
      ]
     },
     "execution_count": 229,
     "metadata": {},
     "output_type": "execute_result"
    }
   ],
   "source": [
    "df_copy.head(2)"
   ]
  },
  {
   "cell_type": "code",
   "execution_count": 230,
   "metadata": {},
   "outputs": [],
   "source": [
    "extractDate(df_copy)"
   ]
  },
  {
   "cell_type": "code",
   "execution_count": 231,
   "metadata": {},
   "outputs": [
    {
     "data": {
      "text/plain": [
       "18   2020-10-22\n",
       "29   2020-10-09\n",
       "21   2020-10-26\n",
       "27   2020-10-17\n",
       "37   2020-10-24\n",
       "2    2020-10-14\n",
       "47   2020-11-25\n",
       "14   2020-11-27\n",
       "9    2020-10-23\n",
       "4    2020-11-07\n",
       "Name: date, dtype: datetime64[ns]"
      ]
     },
     "execution_count": 231,
     "metadata": {},
     "output_type": "execute_result"
    }
   ],
   "source": [
    "df_copy['date']"
   ]
  },
  {
   "cell_type": "code",
   "execution_count": 187,
   "metadata": {},
   "outputs": [
    {
     "data": {
      "image/png": "[encoded data removed]",
      "text/plain": [
       "<Figure size 432x288 with 1 Axes>"
      ]
     },
     "metadata": {
      "needs_background": "light"
     },
     "output_type": "display_data"
    }
   ],
   "source": [
    "plot_hist(df_copy)"
   ]
  },
  {
   "cell_type": "markdown",
   "metadata": {},
   "source": [
    "## Testing on real dataset"
   ]
  },
  {
   "cell_type": "markdown",
   "metadata": {},
   "source": [
    "### Bill Gates Dataframe"
   ]
  },
  {
   "cell_type": "code",
   "execution_count": 8,
   "metadata": {},
   "outputs": [],
   "source": [
    "extractDate(df_Gates)\n",
    "\n",
    "# On ne garde que les tweets des derniers mois\n",
    "df_Gates = df_Gates[(df_Gates['date'] > '2020-10-05') & (df_Gates['date'] < '2020-12-07')]"
   ]
  },
  {
   "cell_type": "code",
   "execution_count": 9,
   "metadata": {},
   "outputs": [
    {
     "data": {
      "image/png": "[encoded data removed]",
      "text/plain": [
       "<Figure size 1440x720 with 1 Axes>"
      ]
     },
     "metadata": {
      "needs_background": "light"
     },
     "output_type": "display_data"
    }
   ],
   "source": [
    "visualize(df_Gates, color='#CD7058', title='Évolution du nombre de tweets relatifs à Gates et au coronavirus')"
   ]
  },
  {
   "cell_type": "markdown",
   "metadata": {},
   "source": [
    "### 5G Dataframe"
   ]
  },
  {
   "cell_type": "code",
   "execution_count": 10,
   "metadata": {},
   "outputs": [],
   "source": [
    "extractDate(df_5G)\n",
    "\n",
    "# On ne garde que les tweets des derniers mois\n",
    "df_5G = df_5G[(df_5G['date'] > '2020-10-05') & (df_5G['date'] < '2020-12-07')]"
   ]
  },
  {
   "cell_type": "code",
   "execution_count": 11,
   "metadata": {},
   "outputs": [
    {
     "data": {
      "image/png": "[encoded data removed]",
      "text/plain": [
       "<Figure size 1440x720 with 1 Axes>"
      ]
     },
     "metadata": {
      "needs_background": "light"
     },
     "output_type": "display_data"
    }
   ],
   "source": [
    "visualize(df_5G, color='#F9A65A', title='Évolution du nombre de tweets relatifs à la 5G et au coronavirus')"
   ]
  },
  {
   "cell_type": "markdown",
   "metadata": {},
   "source": [
    "### Hydroxycloroquine Dataframe"
   ]
  },
  {
   "cell_type": "code",
   "execution_count": 12,
   "metadata": {},
   "outputs": [],
   "source": [
    "extractDate(df_hydro)\n",
    "\n",
    "# On ne garde que les tweets des derniers mois\n",
    "df_hydro = df_hydro[(df_hydro['date'] > '2020-10-05') & (df_hydro['date'] < '2020-12-07')]"
   ]
  },
  {
   "cell_type": "code",
   "execution_count": 13,
   "metadata": {
    "scrolled": false
   },
   "outputs": [
    {
     "data": {
      "image/png": "[encoded data removed]",
      "text/plain": [
       "<Figure size 1440x720 with 1 Axes>"
      ]
     },
     "metadata": {
      "needs_background": "light"
     },
     "output_type": "display_data"
    }
   ],
   "source": [
    "visualize(df_hydro, color='#599AD3', title='Évolution du nombre de tweets relatifs à l\\'hydroxychloroquine et au coronavirus')"
   ]
  },
  {
   "cell_type": "code",
   "execution_count": 70,
   "metadata": {},
   "outputs": [
    {
     "data": {
      "text/plain": [
       "6     RT @biobiobiobior: 🔴 Pays-Bas: « L’Hydroxychlo...\n",
       "31    RT @Stalec_: Ils ne savent pas, \\nIls se quest...\n",
       "6     RT @biobiobiobioc: 🔺USA, 24 Novembre: « Une ét...\n",
       "3     RT @RTenfrancais: Interdiction de l’#hydroxych...\n",
       "54    \"Le principal promoteur de l’hydroxychloroquin...\n",
       "9     RT @biobiobiobioc: 🔺« Vous n’avez qu’à regarde...\n",
       "1     RT @biobiobiobior: 🔴 Pays-Bas: « L’Hydroxychlo...\n",
       "25    RT @biobiobiobior: 🔺France, 07 Octobre: « Vous...\n",
       "29    RT @biobiobiobior: 🔴🔴 France, 26 Octobre: « Sa...\n",
       "34    RT @RTenfrancais: #Hydroxychloroquine : «Tous ...\n",
       "Name: text, dtype: object"
      ]
     },
     "execution_count": 70,
     "metadata": {},
     "output_type": "execute_result"
    }
   ],
   "source": [
    "df_hydro['text'].sample(10)"
   ]
  },
  {
   "cell_type": "markdown",
   "metadata": {},
   "source": [
    "### Les 3 théories en même temps"
   ]
  },
  {
   "cell_type": "code",
   "execution_count": 52,
   "metadata": {},
   "outputs": [
    {
     "data": {
      "image/png": "[encoded data removed]",
      "text/plain": [
       "<Figure size 1440x720 with 1 Axes>"
      ]
     },
     "metadata": {
      "needs_background": "light"
     },
     "output_type": "display_data"
    }
   ],
   "source": [
    "plt.figure(figsize=(20, 10))\n",
    "\n",
    "# Bill Gates\n",
    "freq_gates = df_Gates['date'].value_counts()\n",
    "plt.bar(freq_gates.index, freq_gates.values, color='lightcoral')\n",
    "\n",
    "# Hydroxychloroquine\n",
    "freq_hydro = df_hydro['date'].value_counts()\n",
    "plt.bar(freq_hydro.index, freq_hydro.values, color='yellowgreen')\n",
    "\n",
    "# 5G\n",
    "freq_5g = df_5G['date'].value_counts()\n",
    "plt.bar(freq_5g.index, freq_5g.values, color='lightskyblue')\n",
    "\n",
    "plt.title('Évolution du nombre de tweets pour les 3 théories')\n",
    "\n",
    "colors = {'Hydroxychloroquine':'yellowgreen', '5G':'lightskyblue', 'Gates':'lightcoral'}         \n",
    "labels = list(colors.keys())\n",
    "handles = [plt.Rectangle((0,0),1,1, color=colors[label]) for label in labels]\n",
    "plt.legend(handles, labels)\n",
    "\n",
    "plt.show()"
   ]
  },
  {
   "source": [
    "### Repartition des tweets par théorie"
   ],
   "cell_type": "markdown",
   "metadata": {
    "pycharm": {
     "name": "#%% md\n"
    }
   }
  }
 ],
 "metadata": {
  "kernelspec": {
   "display_name": "Python 3",
   "language": "python",
   "name": "python3"
  },
  "language_info": {
   "codemirror_mode": {
    "name": "ipython",
    "version": 3
   },
   "file_extension": ".py",
   "mimetype": "text/x-python",
   "name": "python",
   "nbconvert_exporter": "python",
   "pygments_lexer": "ipython3",
   "version": "3.8.5-final"
  }
 },
 "nbformat": 4,
 "nbformat_minor": 2
}